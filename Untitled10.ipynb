{
  "nbformat": 4,
  "nbformat_minor": 0,
  "metadata": {
    "colab": {
      "provenance": [],
      "gpuType": "T4"
    },
    "kernelspec": {
      "name": "python3",
      "display_name": "Python 3"
    },
    "language_info": {
      "name": "python"
    },
    "accelerator": "GPU"
  },
  "cells": [
    {
      "cell_type": "code",
      "execution_count": 17,
      "metadata": {
        "colab": {
          "base_uri": "https://localhost:8080/"
        },
        "id": "xJ3X7uJ-J9G0",
        "outputId": "1f82cfa3-95c5-4a31-aef1-f406050f15fe"
      },
      "outputs": [
        {
          "output_type": "stream",
          "name": "stdout",
          "text": [
            "dc3b\n",
            "Data saved to pj_morgan_hashed_powered.json\n"
          ]
        }
      ],
      "source": [
        "import hashlib\n",
        "import secrets\n",
        "import pandas as pd\n",
        "import json\n",
        "import random\n",
        "\n",
        "def generate_private_key():\n",
        "    return secrets.token_hex(2)\n",
        "\n",
        "def hash_customer_names(customers):\n",
        "    hashed_customers = []\n",
        "    for customer in customers:\n",
        "        hash_object = hashlib.sha256(f\"{customer}\".encode())\n",
        "        hashed_customers.append(hash_object.hexdigest())\n",
        "    return hashed_customers\n",
        "\n",
        "def raise_hashes_to_power(hashed_customers, private_key):\n",
        "    powered_hashes = []\n",
        "    for hashed_customer in hashed_customers:\n",
        "        powered_hash = int(hashed_customer, 16) ** int(private_key, 16)\n",
        "        powered_hashes.append(hex(powered_hash))\n",
        "    return powered_hashes\n",
        "\n",
        "pj_morgan_verified_df = pd.read_csv('data/pj_morgan_verified.csv')\n",
        "pj_morgan_new_df = pd.read_csv('data/pj_morgan_new.csv')\n",
        "\n",
        "pj_morgan_verified = pj_morgan_verified_df['CustomerID'].tolist()\n",
        "pj_morgan_new = pj_morgan_new_df['CustomerID'].tolist()\n",
        "\n",
        "\n",
        "pj_morgan_private_key = generate_private_key()\n",
        "print(pj_morgan_private_key)\n",
        "\n",
        "pj_morgan_verified_hashed = hash_customer_names(pj_morgan_verified)\n",
        "# print(pj_morgan_verified_hashed)\n",
        "pj_morgan_new_hashed = hash_customer_names(pj_morgan_new)\n",
        "# print(pj_morgan_new_hashed)\n",
        "\n",
        "pj_morgan_verified_hashed_powered = raise_hashes_to_power(pj_morgan_verified_hashed, pj_morgan_private_key)\n",
        "\n",
        "# print(pj_morgan_verified_hashed_powered)\n",
        "pj_morgan_new_hashed_powered = raise_hashes_to_power(pj_morgan_new_hashed, pj_morgan_private_key)\n",
        "\n",
        "data_to_send = {\n",
        "    \"pj_morgan_new_hashed_powered\": pj_morgan_new_hashed_powered,\n",
        "    \"pj_morgan_verified_hashed_powered\": pj_morgan_verified_hashed_powered\n",
        "}\n",
        "\n",
        "with open('pj_morgan_hashed_powered.json', 'w') as json_file:\n",
        "    json.dump(data_to_send, json_file)\n",
        "\n",
        "print(\"Data saved to pj_morgan_hashed_powered.json\")"
      ]
    },
    {
      "cell_type": "code",
      "source": [
        "import hashlib\n",
        "import secrets\n",
        "import pandas as pd\n",
        "import json\n",
        "\n",
        "def generate_private_key():\n",
        "    return secrets.token_hex(2)\n",
        "\n",
        "def hash_customer_names(customers):\n",
        "    hashed_customers = []\n",
        "    for customer in customers:\n",
        "        hash_object = hashlib.sha256(f\"{customer}\".encode())\n",
        "        hashed_customers.append(hash_object.hexdigest())\n",
        "    return hashed_customers\n",
        "\n",
        "def raise_hashes_to_power(hashed_customers, private_key):\n",
        "    powered_hashes = []\n",
        "    for hashed_customer in hashed_customers:\n",
        "        powered_hash = int(hashed_customer, 16) ** int(private_key, 16)\n",
        "        powered_hashes.append(hex(powered_hash))\n",
        "    return powered_hashes\n",
        "\n",
        "wells_neargo_verified_df = pd.read_csv('data/wells_neargo_verified.csv')\n",
        "wells_neargo_new_df = pd.read_csv('data/wells_neargo_new.csv')\n",
        "\n",
        "wells_neargo_verified = wells_neargo_verified_df['CustomerID'].tolist()\n",
        "wells_neargo_new = wells_neargo_new_df['CustomerID'].tolist()\n",
        "\n",
        "\n",
        "wells_neargo_private_key = generate_private_key()\n",
        "print(wells_neargo_private_key)\n",
        "\n",
        "wells_neargo_verified_hashed = hash_customer_names(wells_neargo_verified)\n",
        "wells_neargo_new_hashed = hash_customer_names(wells_neargo_new)\n",
        "\n",
        "wells_neargo_verified_hashed_powered = raise_hashes_to_power(wells_neargo_verified_hashed, wells_neargo_private_key)\n",
        "\n",
        "\n",
        "wells_neargo_new_hashed_powered = raise_hashes_to_power(wells_neargo_new_hashed, wells_neargo_private_key)\n",
        "\n",
        "data_to_send = {\n",
        "    \"wells_neargo_new_hashed_powered\": wells_neargo_new_hashed_powered,\n",
        "    \"wells_neargo_verified_hashed_powered\": wells_neargo_verified_hashed_powered\n",
        "}\n",
        "\n",
        "with open('wells_neargo_hashed_powered.json', 'w') as json_file:\n",
        "    json.dump(data_to_send, json_file)\n",
        "\n",
        "print(\"Data saved to wells_neargo_hashed_powered.json\")"
      ],
      "metadata": {
        "colab": {
          "base_uri": "https://localhost:8080/"
        },
        "id": "vhcU7EfiOj9R",
        "outputId": "fafe75fd-7de5-48fd-ebd9-025647703277"
      },
      "execution_count": 19,
      "outputs": [
        {
          "output_type": "stream",
          "name": "stdout",
          "text": [
            "931e\n",
            "Data saved to wells_neargo_hashed_powered.json\n"
          ]
        }
      ]
    },
    {
      "cell_type": "code",
      "source": [
        "## For PJ Morgan Bank\n",
        "with open('wells_neargo_hashed_powered.json', 'r') as json_file:\n",
        "    wells_neargo_data = json.load(json_file)\n",
        "\n",
        "wells_neargo_new_hashed_powered = wells_neargo_data[\"wells_neargo_new_hashed_powered\"]\n",
        "wells_neargo_verified_hashed_powered = wells_neargo_data[\"wells_neargo_verified_hashed_powered\"]\n",
        "\n",
        "wells_neargo_new_hashed_powered_final = raise_hashes_to_power(wells_neargo_new_hashed_powered, pj_morgan_private_key)\n",
        "pj_morgan_verified_hashed_powered_final = raise_hashes_to_power(wells_neargo_verified_hashed_powered, pj_morgan_private_key)\n",
        "\n",
        "random.shuffle(pj_morgan_verified_hashed_powered_final)\n",
        "\n",
        "wells_neargo_final_data = {\n",
        "    \"wells_neargo_new_hashed_powered_final\": wells_neargo_new_hashed_powered_final,\n",
        "    \"wells_neargo_verified_hashed_powered_final\": pj_morgan_verified_hashed_powered_final\n",
        "}\n",
        "\n",
        "with open('pj_morgan_final_hashed_powered.json', 'w') as json_file:\n",
        "    json.dump(wells_neargo_final_data, json_file)\n",
        "\n",
        "print(\"Data saved to pj_morgan_final_hashed_powered.json\")"
      ],
      "metadata": {
        "id": "RpjRwpZpaNV_"
      },
      "execution_count": null,
      "outputs": []
    },
    {
      "cell_type": "code",
      "source": [
        "#For Wells NearGo Bank\n",
        "with open('pj_morgan_hashed_powered.json', 'r') as json_file:\n",
        "    pj_morgan_data = json.load(json_file)\n",
        "\n",
        "pj_morgan_new_hashed_powered = pj_morgan_data[\"wells_neargo_new_hashed_powered\"]\n",
        "pj_morgan_verified_hashed_powered = pj_morgan_data[\"wells_neargo_verified_hashed_powered\"]\n",
        "\n",
        "pj_morgan_new_hashed_powered_final = raise_hashes_to_power(pj_morgan_new_hashed_powered, wells_neargo_private_key)\n",
        "wells_neargo_verified_hashed_powered_final = raise_hashes_to_power(pj_morgan_verified_hashed_powered, wells_neargo_private_key)\n",
        "\n",
        "# Save the final powered hashes back to a JSON file\n",
        "pj_morgan_final_data = {\n",
        "    \"pj_morgan_new_hashed_powered_final\": pj_morgan_new_hashed_powered_final,\n",
        "    \"pj_morgan_verified_hashed_powered_final\": wells_neargo_verified_hashed_powered_final\n",
        "}\n",
        "\n",
        "with open('wells_neargo_final_hashed_powered.json', 'w') as json_file:\n",
        "    json.dump(pj_morgan_final_data, json_file)\n",
        "\n",
        "print(\"Data saved to wells_neargo_final_hashed_powered.json\")"
      ],
      "metadata": {
        "id": "g_jb5CSLaYwo"
      },
      "execution_count": null,
      "outputs": []
    },
    {
      "cell_type": "code",
      "source": [
        "## For PJ Morgan\n",
        "with open('pj_morgan_final_hashed_powered.json', 'r') as pj_morgan_file:\n",
        "    pj_morgan_data = json.load(pj_morgan_file)\n",
        "\n",
        "wells_neargo_new_hashed_powered_final = set(pj_morgan_data[\"wells_neargo_new_hashed_powered_final\"])\n",
        "\n",
        "with open('wells_neargo_final_hashed_powered.json', 'r') as wells_neargo_file:\n",
        "    wells_neargo_data = json.load(wells_neargo_file)\n",
        "\n",
        "pj_morgan_verified_hashed_powered_final = set(wells_neargo_data[\"pj_morgan_verified_hashed_powered_final\"])\n",
        "\n",
        "intersection = wells_neargo_new_hashed_powered_final.intersection(pj_morgan_verified_hashed_powered_final)\n",
        "\n",
        "intersection_count = len(intersection)\n",
        "\n",
        "print(f\"Number of elements in the intersection for PJ Morgan: {intersection_count}\")"
      ],
      "metadata": {
        "id": "LjelpqLRi6Wp"
      },
      "execution_count": null,
      "outputs": []
    },
    {
      "cell_type": "code",
      "source": [
        "## For Wells NearGo\n",
        "with open('pj_morgan_final_hashed_powered.json', 'r') as pj_morgan_file:\n",
        "    pj_morgan_data = json.load(pj_morgan_file)\n",
        "\n",
        "wells_neargo_verified_hashed_powered_final = set(pj_morgan_data[\"wells_neargo_verified_hashed_powered_final\"])\n",
        "\n",
        "with open('wells_neargo_final_hashed_powered.json', 'r') as wells_neargo_file:\n",
        "    wells_neargo_data = json.load(wells_neargo_file)\n",
        "\n",
        "pj_morgan_new_hashed_powered_final = set(wells_neargo_data[\"pj_morgan_new_hashed_powered_final\"])\n",
        "\n",
        "intersection = wells_neargo_verified_hashed_powered_final.intersection(pj_morgan_new_hashed_powered_final)\n",
        "\n",
        "intersection_count = len(intersection)\n",
        "\n",
        "print(f\"Number of elements in the intersection for Wells NearGo: {intersection_count}\")"
      ],
      "metadata": {
        "id": "HftK4hZDjK8P"
      },
      "execution_count": null,
      "outputs": []
    }
  ]
}